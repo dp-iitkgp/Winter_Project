{
 "cells": [
  {
   "cell_type": "code",
   "execution_count": 38,
   "metadata": {},
   "outputs": [],
   "source": [
    "import numpy as np\n",
    "import pandas as pd\n",
    "import matplotlib.pyplot as plt\n",
    "import seaborn as sns"
   ]
  },
  {
   "cell_type": "code",
   "execution_count": 39,
   "metadata": {},
   "outputs": [
    {
     "data": {
      "text/html": [
       "<div>\n",
       "<style scoped>\n",
       "    .dataframe tbody tr th:only-of-type {\n",
       "        vertical-align: middle;\n",
       "    }\n",
       "\n",
       "    .dataframe tbody tr th {\n",
       "        vertical-align: top;\n",
       "    }\n",
       "\n",
       "    .dataframe thead th {\n",
       "        text-align: right;\n",
       "    }\n",
       "</style>\n",
       "<table border=\"1\" class=\"dataframe\">\n",
       "  <thead>\n",
       "    <tr style=\"text-align: right;\">\n",
       "      <th></th>\n",
       "      <th>Which year are you currently studying in?</th>\n",
       "      <th>What is your department?</th>\n",
       "      <th>What is your professional inclination in short term after college?</th>\n",
       "    </tr>\n",
       "  </thead>\n",
       "  <tbody>\n",
       "    <tr>\n",
       "      <td>0</td>\n",
       "      <td>Fourth Year/BTECH</td>\n",
       "      <td>Non-Circuital</td>\n",
       "      <td>Non Tech-oriented Job [Finance, Management, Ar...</td>\n",
       "    </tr>\n",
       "    <tr>\n",
       "      <td>1</td>\n",
       "      <td>Fourth Year/DD</td>\n",
       "      <td>Non-Circuital</td>\n",
       "      <td>Non Tech-oriented Job [Finance, Management, Ar...</td>\n",
       "    </tr>\n",
       "    <tr>\n",
       "      <td>2</td>\n",
       "      <td>Fourth Year/DD</td>\n",
       "      <td>Non-Circuital</td>\n",
       "      <td>Non Tech-oriented Job [Finance, Management, Ar...</td>\n",
       "    </tr>\n",
       "    <tr>\n",
       "      <td>3</td>\n",
       "      <td>Second Year</td>\n",
       "      <td>Non-Circuital</td>\n",
       "      <td>Core Engineering</td>\n",
       "    </tr>\n",
       "    <tr>\n",
       "      <td>4</td>\n",
       "      <td>Fourth Year/BTECH</td>\n",
       "      <td>Non-Circuital</td>\n",
       "      <td>Non Tech-oriented Job [Finance, Management, Ar...</td>\n",
       "    </tr>\n",
       "  </tbody>\n",
       "</table>\n",
       "</div>"
      ],
      "text/plain": [
       "  Which year are you currently studying in? What is your department?  \\\n",
       "0                         Fourth Year/BTECH            Non-Circuital   \n",
       "1                            Fourth Year/DD            Non-Circuital   \n",
       "2                            Fourth Year/DD            Non-Circuital   \n",
       "3                               Second Year            Non-Circuital   \n",
       "4                         Fourth Year/BTECH            Non-Circuital   \n",
       "\n",
       "  What is your professional inclination in short term after college?   \n",
       "0  Non Tech-oriented Job [Finance, Management, Ar...                   \n",
       "1  Non Tech-oriented Job [Finance, Management, Ar...                   \n",
       "2  Non Tech-oriented Job [Finance, Management, Ar...                   \n",
       "3                                   Core Engineering                   \n",
       "4  Non Tech-oriented Job [Finance, Management, Ar...                   "
      ]
     },
     "execution_count": 39,
     "metadata": {},
     "output_type": "execute_result"
    }
   ],
   "source": [
    "df = pd.read_csv(\"C:/Users/DEEPANSH/Desktop/analytics project/Dataset 1/Dataset1.csv\")\n",
    "df.head()"
   ]
  },
  {
   "cell_type": "code",
   "execution_count": 40,
   "metadata": {},
   "outputs": [
    {
     "data": {
      "text/plain": [
       "Index(['Which year are you currently studying in?', 'What is your department?',\n",
       "       'What is your professional inclination in short term after college? '],\n",
       "      dtype='object')"
      ]
     },
     "execution_count": 40,
     "metadata": {},
     "output_type": "execute_result"
    }
   ],
   "source": [
    "df.columns"
   ]
  },
  {
   "cell_type": "code",
   "execution_count": 41,
   "metadata": {},
   "outputs": [
    {
     "data": {
      "text/html": [
       "<div>\n",
       "<style scoped>\n",
       "    .dataframe tbody tr th:only-of-type {\n",
       "        vertical-align: middle;\n",
       "    }\n",
       "\n",
       "    .dataframe tbody tr th {\n",
       "        vertical-align: top;\n",
       "    }\n",
       "\n",
       "    .dataframe thead th {\n",
       "        text-align: right;\n",
       "    }\n",
       "</style>\n",
       "<table border=\"1\" class=\"dataframe\">\n",
       "  <thead>\n",
       "    <tr style=\"text-align: right;\">\n",
       "      <th></th>\n",
       "      <th>Year</th>\n",
       "      <th>Department</th>\n",
       "      <th>Job_Inclination</th>\n",
       "    </tr>\n",
       "  </thead>\n",
       "  <tbody>\n",
       "    <tr>\n",
       "      <td>0</td>\n",
       "      <td>Fourth Year/BTECH</td>\n",
       "      <td>Non-Circuital</td>\n",
       "      <td>Non Tech-oriented Job [Finance, Management, Ar...</td>\n",
       "    </tr>\n",
       "    <tr>\n",
       "      <td>1</td>\n",
       "      <td>Fourth Year/DD</td>\n",
       "      <td>Non-Circuital</td>\n",
       "      <td>Non Tech-oriented Job [Finance, Management, Ar...</td>\n",
       "    </tr>\n",
       "    <tr>\n",
       "      <td>2</td>\n",
       "      <td>Fourth Year/DD</td>\n",
       "      <td>Non-Circuital</td>\n",
       "      <td>Non Tech-oriented Job [Finance, Management, Ar...</td>\n",
       "    </tr>\n",
       "    <tr>\n",
       "      <td>3</td>\n",
       "      <td>Second Year</td>\n",
       "      <td>Non-Circuital</td>\n",
       "      <td>Core Engineering</td>\n",
       "    </tr>\n",
       "    <tr>\n",
       "      <td>4</td>\n",
       "      <td>Fourth Year/BTECH</td>\n",
       "      <td>Non-Circuital</td>\n",
       "      <td>Non Tech-oriented Job [Finance, Management, Ar...</td>\n",
       "    </tr>\n",
       "  </tbody>\n",
       "</table>\n",
       "</div>"
      ],
      "text/plain": [
       "                Year     Department  \\\n",
       "0  Fourth Year/BTECH  Non-Circuital   \n",
       "1     Fourth Year/DD  Non-Circuital   \n",
       "2     Fourth Year/DD  Non-Circuital   \n",
       "3        Second Year  Non-Circuital   \n",
       "4  Fourth Year/BTECH  Non-Circuital   \n",
       "\n",
       "                                     Job_Inclination  \n",
       "0  Non Tech-oriented Job [Finance, Management, Ar...  \n",
       "1  Non Tech-oriented Job [Finance, Management, Ar...  \n",
       "2  Non Tech-oriented Job [Finance, Management, Ar...  \n",
       "3                                   Core Engineering  \n",
       "4  Non Tech-oriented Job [Finance, Management, Ar...  "
      ]
     },
     "execution_count": 41,
     "metadata": {},
     "output_type": "execute_result"
    }
   ],
   "source": [
    "df.rename(columns = {'Which year are you currently studying in?' : 'Year'}, inplace = True)\n",
    "df.rename(columns = {'What is your department?' : 'Department'}, inplace = True)\n",
    "df.rename(columns = {'What is your professional inclination in short term after college? ' : 'Job_Inclination'}, inplace = True)\n",
    "df.head()"
   ]
  },
  {
   "cell_type": "code",
   "execution_count": 42,
   "metadata": {},
   "outputs": [
    {
     "name": "stdout",
     "output_type": "stream",
     "text": [
      "<class 'pandas.core.frame.DataFrame'>\n",
      "RangeIndex: 439 entries, 0 to 438\n",
      "Data columns (total 3 columns):\n",
      "Year               439 non-null object\n",
      "Department         439 non-null object\n",
      "Job_Inclination    439 non-null object\n",
      "dtypes: object(3)\n",
      "memory usage: 10.4+ KB\n"
     ]
    }
   ],
   "source": [
    "df.info()"
   ]
  },
  {
   "cell_type": "code",
   "execution_count": 43,
   "metadata": {},
   "outputs": [
    {
     "data": {
      "text/plain": [
       "array(['Fourth Year/BTECH', 'Fourth Year/DD', 'Second Year',\n",
       "       'Third Year/BTECH', 'Third Year/DD', 'Fifth Year'], dtype=object)"
      ]
     },
     "execution_count": 43,
     "metadata": {},
     "output_type": "execute_result"
    }
   ],
   "source": [
    "df.Year.unique()"
   ]
  },
  {
   "cell_type": "code",
   "execution_count": 44,
   "metadata": {},
   "outputs": [
    {
     "data": {
      "text/plain": [
       "array(['Non-Circuital', 'Circuital [CSE,EE,ECE]'], dtype=object)"
      ]
     },
     "execution_count": 44,
     "metadata": {},
     "output_type": "execute_result"
    }
   ],
   "source": [
    "df.Department.unique()"
   ]
  },
  {
   "cell_type": "code",
   "execution_count": 45,
   "metadata": {},
   "outputs": [
    {
     "data": {
      "text/plain": [
       "array(['Non Tech-oriented Job [Finance, Management, Arts, Public Services etc]',\n",
       "       'Core Engineering', 'Not decided yet, still exploring',\n",
       "       'Tech-Oriented Job [Software, Analytics, Machine Learning etc]',\n",
       "       'Higher Studies'], dtype=object)"
      ]
     },
     "execution_count": 45,
     "metadata": {},
     "output_type": "execute_result"
    }
   ],
   "source": [
    "df.Job_Inclination.unique()"
   ]
  },
  {
   "cell_type": "code",
   "execution_count": 46,
   "metadata": {},
   "outputs": [
    {
     "data": {
      "text/plain": [
       "Second Year          118\n",
       "Fourth Year/DD       107\n",
       "Third Year/BTECH      73\n",
       "Fourth Year/BTECH     71\n",
       "Third Year/DD         59\n",
       "Fifth Year            11\n",
       "Name: Year, dtype: int64"
      ]
     },
     "execution_count": 46,
     "metadata": {},
     "output_type": "execute_result"
    }
   ],
   "source": [
    "df['Year'].value_counts()"
   ]
  },
  {
   "cell_type": "code",
   "execution_count": 47,
   "metadata": {},
   "outputs": [
    {
     "data": {
      "text/plain": [
       "Non-Circuital             302\n",
       "Circuital [CSE,EE,ECE]    137\n",
       "Name: Department, dtype: int64"
      ]
     },
     "execution_count": 47,
     "metadata": {},
     "output_type": "execute_result"
    }
   ],
   "source": [
    "df['Department'].value_counts()"
   ]
  },
  {
   "cell_type": "code",
   "execution_count": 48,
   "metadata": {},
   "outputs": [
    {
     "data": {
      "text/plain": [
       "Tech-Oriented Job [Software, Analytics, Machine Learning etc]             201\n",
       "Non Tech-oriented Job [Finance, Management, Arts, Public Services etc]     75\n",
       "Not decided yet, still exploring                                           73\n",
       "Higher Studies                                                             47\n",
       "Core Engineering                                                           43\n",
       "Name: Job_Inclination, dtype: int64"
      ]
     },
     "execution_count": 48,
     "metadata": {},
     "output_type": "execute_result"
    }
   ],
   "source": [
    "df['Job_Inclination'].value_counts()"
   ]
  },
  {
   "cell_type": "code",
   "execution_count": 49,
   "metadata": {
    "scrolled": true
   },
   "outputs": [
    {
     "data": {
      "image/png": "[encoded data removed]",
      "text/plain": [
       "<Figure size 648x288 with 1 Axes>"
      ]
     },
     "metadata": {
      "needs_background": "light"
     },
     "output_type": "display_data"
    }
   ],
   "source": [
    "plt.figure(figsize = (9,4))\n",
    "Year = ['2nd','3rd', '3rd/DD','4th', '4/DD', '5th']\n",
    "students = [118,73,59,71,107,11]\n",
    "plt.bar(Year,students, width = 0.7, align = 'center' , )\n",
    "plt.legend(labels = ['Total Students'])\n",
    "plt.title(\"Students vs Current Year\")\n",
    "plt.xlabel('Year')\n",
    "plt.ylabel('Students')\n",
    "plt.show()"
   ]
  },
  {
   "cell_type": "code",
   "execution_count": 50,
   "metadata": {},
   "outputs": [
    {
     "data": {
      "image/png": "[encoded data removed]",
      "text/plain": [
       "<Figure size 648x288 with 1 Axes>"
      ]
     },
     "metadata": {
      "needs_background": "light"
     },
     "output_type": "display_data"
    }
   ],
   "source": [
    "plt.figure(figsize = (9,4))\n",
    "Interest = ['Non Tech',\n",
    "       'Core Engineering', 'Not decided',\n",
    "       'Tech',\n",
    "       'Higher Studies']\n",
    "students_1 = [75,43,73,201,47]\n",
    "plt.bar(Interest,students_1, width = 0.7, align = 'center' , )\n",
    "plt.legend(labels = ['Total Students'])\n",
    "plt.title(\"Students vs Interest\")\n",
    "plt.xlabel('Interest')\n",
    "plt.ylabel('Students')\n",
    "plt.show()"
   ]
  },
  {
   "cell_type": "code",
   "execution_count": 51,
   "metadata": {},
   "outputs": [],
   "source": [
    "df.set_index(['Year'] , inplace = True)"
   ]
  },
  {
   "cell_type": "code",
   "execution_count": 52,
   "metadata": {},
   "outputs": [],
   "source": [
    "#df4th = df.loc[['Fourth Year/BTECH']]\n",
    "#print(df4th['Department'].value_counts())\n",
    "#print(df4th['Job_Inclination'].value_counts())"
   ]
  },
  {
   "cell_type": "code",
   "execution_count": 53,
   "metadata": {},
   "outputs": [],
   "source": [
    "df5th = df.loc[['Fifth Year']]\n",
    "df5th_Dep = df5th['Department'].value_counts()\n",
    "df5th_Dep_keys = df5th_Dep.keys()\n",
    "df5th_Dep_values = df5th_Dep.values\n",
    "\n",
    "df5th_Job = df5th['Job_Inclination'].value_counts().sort_index()\n",
    "df5th_Job_keys = df5th_Job.keys()\n",
    "df5th_Job_values = df5th_Job.values"
   ]
  },
  {
   "cell_type": "code",
   "execution_count": 54,
   "metadata": {},
   "outputs": [],
   "source": [
    "df4th = df.loc[['Fourth Year/BTECH']]\n",
    "df4th_Dep = df4th['Department'].value_counts()\n",
    "df4th_Dep_keys = df4th_Dep.keys()\n",
    "df4th_Dep_values = df4th_Dep.values\n",
    "\n",
    "df4th_Job = df4th['Job_Inclination'].value_counts().sort_index()\n",
    "df4th_Job_keys = df4th_Job.keys()\n",
    "df4th_Job_values = df4th_Job.values"
   ]
  },
  {
   "cell_type": "code",
   "execution_count": 55,
   "metadata": {},
   "outputs": [],
   "source": [
    "df4th_DD = df.loc[['Fourth Year/DD']]\n",
    "df4th_DD_Dep = df4th_DD['Department'].value_counts()\n",
    "df4th_DD_Dep_keys = df4th_DD_Dep.keys()\n",
    "df4th_DD_Dep_values = df4th_DD_Dep.values\n",
    "\n",
    "df4th_DD_Job = df4th_DD['Job_Inclination'].value_counts().sort_index()\n",
    "df4th_DD_Job_keys = df4th_DD_Job.keys()\n",
    "df4th_DD_Job_values = df4th_DD_Job.values"
   ]
  },
  {
   "cell_type": "code",
   "execution_count": 56,
   "metadata": {},
   "outputs": [],
   "source": [
    "df3rd_DD = df.loc[['Third Year/DD']]\n",
    "df3rd_DD_Dep = df3rd_DD['Department'].value_counts()\n",
    "df3rd_DD_Dep_keys = df3rd_DD_Dep.keys()\n",
    "df3rd_DD_Dep_values = df3rd_DD_Dep.values\n",
    "\n",
    "df3rd_DD_Job = df3rd_DD['Job_Inclination'].value_counts().sort_index()\n",
    "df3rd_DD_Job_keys = df3rd_DD_Job.keys()\n",
    "df3rd_DD_Job_values = df3rd_DD_Job.values"
   ]
  },
  {
   "cell_type": "code",
   "execution_count": 57,
   "metadata": {},
   "outputs": [],
   "source": [
    "df3rd = df.loc[['Third Year/BTECH']]\n",
    "df3rd_Dep = df3rd['Department'].value_counts()\n",
    "df3rd_Dep_keys = df3rd_Dep.keys()\n",
    "df3rd_Dep_values = df3rd_Dep.values\n",
    "\n",
    "df3rd_Job = df3rd['Job_Inclination'].value_counts().sort_index()\n",
    "df3rd_Job_keys = df3rd_Job.keys()\n",
    "df3rd_Job_values = df3rd_Job.values"
   ]
  },
  {
   "cell_type": "code",
   "execution_count": 58,
   "metadata": {},
   "outputs": [],
   "source": [
    "df2nd = df.loc[['Second Year']]\n",
    "df2nd_Dep = df2nd['Department'].value_counts()\n",
    "df2nd_Dep_keys = df2nd_Dep.keys()\n",
    "df2nd_Dep_values = df2nd_Dep.values\n",
    "\n",
    "df2nd_Job = df2nd['Job_Inclination'].value_counts().sort_index()\n",
    "df2nd_Job_keys = df2nd_Job.keys()\n",
    "df2nd_Job_values = df2nd_Job.values"
   ]
  },
  {
   "cell_type": "code",
   "execution_count": 59,
   "metadata": {},
   "outputs": [
    {
     "data": {
      "image/png": "[encoded data removed]",
      "text/plain": [
       "<Figure size 1080x360 with 1 Axes>"
      ]
     },
     "metadata": {
      "needs_background": "light"
     },
     "output_type": "display_data"
    }
   ],
   "source": [
    "plt.figure(figsize=[15, 5])\n",
    "\n",
    "Year = ['2nd','3rd', '3rd/DD','4th', '4th/DD', '5th']\n",
    "#countries = ['USA', 'Brazil', 'Russia', 'Spain', 'UK', 'India']\n",
    "a=df2nd_Dep_values\n",
    "b=df3rd_Dep_values\n",
    "c=df3rd_DD_Dep_values\n",
    "d=df4th_Dep_values\n",
    "e=df4th_DD_Dep_values\n",
    "f=df5th_Dep_values\n",
    "\n",
    "plt.bar(Year[0], a[1],bottom = a[0], color='black')\n",
    "plt.bar(Year[0], a[0], color='red')\n",
    "\n",
    "plt.bar(Year[1], b[1],bottom = b[0], color='black')\n",
    "plt.bar(Year[1], b[0], color='red')\n",
    "\n",
    "plt.bar(Year[2], c[1],bottom = c[0], color='black')\n",
    "plt.bar(Year[2], c[0], color='red')\n",
    "\n",
    "plt.bar(Year[3], d[1],bottom = d[0], color='black')\n",
    "plt.bar(Year[3], d[0], color='red')\n",
    "\n",
    "plt.bar(Year[4], e[1],bottom = e[0], color='black')\n",
    "plt.bar(Year[4], e[0], color='red')\n",
    "\n",
    "plt.bar(Year[5], f[1],bottom = f[0], color='black')\n",
    "plt.bar(Year[5], f[0], color='red')\n",
    "\n",
    "plt.legend(labels = ['Circuital','Non-Circuital'])\n",
    "\n",
    "plt.title(\"Bar plot representing students in Circuital or Non-Circuital Department\")\n",
    "plt.xlabel('Year')\n",
    "plt.ylabel('Students')\n",
    "\n",
    "plt.show()"
   ]
  },
  {
   "cell_type": "code",
   "execution_count": 60,
   "metadata": {},
   "outputs": [
    {
     "data": {
      "image/png": "[encoded data removed]",
      "text/plain": [
       "<Figure size 1080x720 with 1 Axes>"
      ]
     },
     "metadata": {
      "needs_background": "light"
     },
     "output_type": "display_data"
    }
   ],
   "source": [
    "plt.figure(figsize=[15, 10])\n",
    "\n",
    "u=df2nd_Job_values\n",
    "v=df3rd_Job_values\n",
    "w=df3rd_DD_Job_values\n",
    "x=df4th_Job_values\n",
    "y=df4th_DD_Job_values\n",
    "z=df5th_Job_values\n",
    "data = [u,v,w,x,y,z]\n",
    " \n",
    "X=0\n",
    "for X in range(6):\n",
    " plt.bar(X, data[X][0], color = 'y', width = 0.1)\n",
    " plt.bar(X + 0.1, data[X][1], color = 'g', width = 0.1)\n",
    " plt.bar(X + 0.2, data[X][2], color = 'b', width = 0.1)\n",
    " plt.bar(X + 0.3, data[X][3], color = 'c', width = 0.1)\n",
    " plt.bar(X + 0.4, data[X][4], color = 'm', width = 0.1)\n",
    "\n",
    "\n",
    "plt.legend(['Core Engineering', 'Higher Studies',\n",
    "       'Non Tech-oriented Job [Finance, Management, Arts, Public Services etc]',\n",
    "       'Not decided yet, still exploring',\n",
    "       'Tech-Oriented Job [Software, Analytics, Machine Learning etc]'])\n",
    "\n",
    "plt.xticks([i + 0.2 for i in range(6)], ['2nd','3rd', '3rd/DD','4th', '4th/DD', '5th'])\n",
    "\n",
    "plt.title(\"Bar plot representing the students interested in different domains from different years\")\n",
    "plt.xlabel('Year')\n",
    "plt.ylabel('Students')\n",
    "\n",
    "plt.show()"
   ]
  }
 ],
 "metadata": {
  "kernelspec": {
   "display_name": "Python 3",
   "language": "python",
   "name": "python3"
  },
  "language_info": {
   "codemirror_mode": {
    "name": "ipython",
    "version": 3
   },
   "file_extension": ".py",
   "mimetype": "text/x-python",
   "name": "python",
   "nbconvert_exporter": "python",
   "pygments_lexer": "ipython3",
   "version": "3.7.4"
  }
 },
 "nbformat": 4,
 "nbformat_minor": 2
}
