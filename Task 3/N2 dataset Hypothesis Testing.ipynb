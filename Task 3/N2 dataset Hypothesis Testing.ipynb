{
 "cells": [
  {
   "cell_type": "code",
   "execution_count": 59,
   "metadata": {},
   "outputs": [],
   "source": [
    "import numpy as np\n",
    "import pandas as pd\n",
    "import matplotlib.pyplot as plt\n",
    "import seaborn as sns"
   ]
  },
  {
   "cell_type": "code",
   "execution_count": 60,
   "metadata": {},
   "outputs": [],
   "source": [
    "df = pd.read_csv(\"C:/Users/DEEPANSH/Desktop/analytics project/Task 3/N2.csv\")\n",
    "df = df.drop(columns ='Unnamed: 0')"
   ]
  },
  {
   "cell_type": "code",
   "execution_count": 61,
   "metadata": {},
   "outputs": [
    {
     "data": {
      "text/html": [
       "<div>\n",
       "<style scoped>\n",
       "    .dataframe tbody tr th:only-of-type {\n",
       "        vertical-align: middle;\n",
       "    }\n",
       "\n",
       "    .dataframe tbody tr th {\n",
       "        vertical-align: top;\n",
       "    }\n",
       "\n",
       "    .dataframe thead th {\n",
       "        text-align: right;\n",
       "    }\n",
       "</style>\n",
       "<table border=\"1\" class=\"dataframe\">\n",
       "  <thead>\n",
       "    <tr style=\"text-align: right;\">\n",
       "      <th></th>\n",
       "      <th>Q1</th>\n",
       "      <th>Q2</th>\n",
       "      <th>Q3</th>\n",
       "      <th>Q4</th>\n",
       "      <th>Q5</th>\n",
       "      <th>Q6</th>\n",
       "      <th>Q8</th>\n",
       "      <th>Q9</th>\n",
       "      <th>Q12</th>\n",
       "      <th>Q13</th>\n",
       "      <th>Q16</th>\n",
       "      <th>Q18</th>\n",
       "      <th>Q20</th>\n",
       "      <th>Q21</th>\n",
       "      <th>Q24</th>\n",
       "      <th>Q25</th>\n",
       "      <th>Q26</th>\n",
       "      <th>Q28</th>\n",
       "      <th>Q30</th>\n",
       "      <th>Q31</th>\n",
       "      <th>Q32</th>\n",
       "      <th>Q34</th>\n",
       "      <th>Q35</th>\n",
       "      <th>age</th>\n",
       "      <th>gender</th>\n",
       "      <th>country</th>\n",
       "    </tr>\n",
       "  </thead>\n",
       "  <tbody>\n",
       "    <tr>\n",
       "      <td>0</td>\n",
       "      <td>1</td>\n",
       "      <td>1</td>\n",
       "      <td>5</td>\n",
       "      <td>1</td>\n",
       "      <td>1</td>\n",
       "      <td>1</td>\n",
       "      <td>1</td>\n",
       "      <td>1</td>\n",
       "      <td>5</td>\n",
       "      <td>1</td>\n",
       "      <td>5</td>\n",
       "      <td>1</td>\n",
       "      <td>5</td>\n",
       "      <td>1</td>\n",
       "      <td>1</td>\n",
       "      <td>5</td>\n",
       "      <td>1</td>\n",
       "      <td>1</td>\n",
       "      <td>5</td>\n",
       "      <td>5</td>\n",
       "      <td>5</td>\n",
       "      <td>1</td>\n",
       "      <td>5</td>\n",
       "      <td>35</td>\n",
       "      <td>1</td>\n",
       "      <td>US</td>\n",
       "    </tr>\n",
       "    <tr>\n",
       "      <td>1</td>\n",
       "      <td>2</td>\n",
       "      <td>3</td>\n",
       "      <td>3</td>\n",
       "      <td>3</td>\n",
       "      <td>4</td>\n",
       "      <td>4</td>\n",
       "      <td>3</td>\n",
       "      <td>3</td>\n",
       "      <td>3</td>\n",
       "      <td>3</td>\n",
       "      <td>3</td>\n",
       "      <td>3</td>\n",
       "      <td>2</td>\n",
       "      <td>2</td>\n",
       "      <td>4</td>\n",
       "      <td>3</td>\n",
       "      <td>4</td>\n",
       "      <td>3</td>\n",
       "      <td>3</td>\n",
       "      <td>3</td>\n",
       "      <td>3</td>\n",
       "      <td>4</td>\n",
       "      <td>4</td>\n",
       "      <td>51</td>\n",
       "      <td>2</td>\n",
       "      <td>US</td>\n",
       "    </tr>\n",
       "    <tr>\n",
       "      <td>2</td>\n",
       "      <td>2</td>\n",
       "      <td>3</td>\n",
       "      <td>5</td>\n",
       "      <td>3</td>\n",
       "      <td>1</td>\n",
       "      <td>3</td>\n",
       "      <td>2</td>\n",
       "      <td>5</td>\n",
       "      <td>3</td>\n",
       "      <td>1</td>\n",
       "      <td>4</td>\n",
       "      <td>3</td>\n",
       "      <td>3</td>\n",
       "      <td>1</td>\n",
       "      <td>2</td>\n",
       "      <td>4</td>\n",
       "      <td>3</td>\n",
       "      <td>4</td>\n",
       "      <td>4</td>\n",
       "      <td>4</td>\n",
       "      <td>4</td>\n",
       "      <td>4</td>\n",
       "      <td>4</td>\n",
       "      <td>38</td>\n",
       "      <td>1</td>\n",
       "      <td>US</td>\n",
       "    </tr>\n",
       "    <tr>\n",
       "      <td>3</td>\n",
       "      <td>1</td>\n",
       "      <td>4</td>\n",
       "      <td>4</td>\n",
       "      <td>5</td>\n",
       "      <td>3</td>\n",
       "      <td>4</td>\n",
       "      <td>3</td>\n",
       "      <td>1</td>\n",
       "      <td>4</td>\n",
       "      <td>1</td>\n",
       "      <td>4</td>\n",
       "      <td>3</td>\n",
       "      <td>2</td>\n",
       "      <td>4</td>\n",
       "      <td>2</td>\n",
       "      <td>5</td>\n",
       "      <td>3</td>\n",
       "      <td>2</td>\n",
       "      <td>4</td>\n",
       "      <td>2</td>\n",
       "      <td>3</td>\n",
       "      <td>4</td>\n",
       "      <td>4</td>\n",
       "      <td>30</td>\n",
       "      <td>3</td>\n",
       "      <td>US</td>\n",
       "    </tr>\n",
       "    <tr>\n",
       "      <td>4</td>\n",
       "      <td>4</td>\n",
       "      <td>4</td>\n",
       "      <td>2</td>\n",
       "      <td>3</td>\n",
       "      <td>3</td>\n",
       "      <td>4</td>\n",
       "      <td>3</td>\n",
       "      <td>3</td>\n",
       "      <td>1</td>\n",
       "      <td>4</td>\n",
       "      <td>1</td>\n",
       "      <td>4</td>\n",
       "      <td>1</td>\n",
       "      <td>2</td>\n",
       "      <td>2</td>\n",
       "      <td>2</td>\n",
       "      <td>3</td>\n",
       "      <td>2</td>\n",
       "      <td>4</td>\n",
       "      <td>2</td>\n",
       "      <td>4</td>\n",
       "      <td>5</td>\n",
       "      <td>2</td>\n",
       "      <td>24</td>\n",
       "      <td>2</td>\n",
       "      <td>US</td>\n",
       "    </tr>\n",
       "    <tr>\n",
       "      <td>...</td>\n",
       "      <td>...</td>\n",
       "      <td>...</td>\n",
       "      <td>...</td>\n",
       "      <td>...</td>\n",
       "      <td>...</td>\n",
       "      <td>...</td>\n",
       "      <td>...</td>\n",
       "      <td>...</td>\n",
       "      <td>...</td>\n",
       "      <td>...</td>\n",
       "      <td>...</td>\n",
       "      <td>...</td>\n",
       "      <td>...</td>\n",
       "      <td>...</td>\n",
       "      <td>...</td>\n",
       "      <td>...</td>\n",
       "      <td>...</td>\n",
       "      <td>...</td>\n",
       "      <td>...</td>\n",
       "      <td>...</td>\n",
       "      <td>...</td>\n",
       "      <td>...</td>\n",
       "      <td>...</td>\n",
       "      <td>...</td>\n",
       "      <td>...</td>\n",
       "      <td>...</td>\n",
       "    </tr>\n",
       "    <tr>\n",
       "      <td>10001</td>\n",
       "      <td>2</td>\n",
       "      <td>2</td>\n",
       "      <td>4</td>\n",
       "      <td>2</td>\n",
       "      <td>2</td>\n",
       "      <td>2</td>\n",
       "      <td>1</td>\n",
       "      <td>2</td>\n",
       "      <td>4</td>\n",
       "      <td>2</td>\n",
       "      <td>2</td>\n",
       "      <td>3</td>\n",
       "      <td>4</td>\n",
       "      <td>2</td>\n",
       "      <td>4</td>\n",
       "      <td>4</td>\n",
       "      <td>4</td>\n",
       "      <td>2</td>\n",
       "      <td>4</td>\n",
       "      <td>4</td>\n",
       "      <td>4</td>\n",
       "      <td>3</td>\n",
       "      <td>4</td>\n",
       "      <td>23</td>\n",
       "      <td>2</td>\n",
       "      <td>US</td>\n",
       "    </tr>\n",
       "    <tr>\n",
       "      <td>10002</td>\n",
       "      <td>2</td>\n",
       "      <td>3</td>\n",
       "      <td>2</td>\n",
       "      <td>1</td>\n",
       "      <td>2</td>\n",
       "      <td>2</td>\n",
       "      <td>2</td>\n",
       "      <td>2</td>\n",
       "      <td>1</td>\n",
       "      <td>2</td>\n",
       "      <td>2</td>\n",
       "      <td>2</td>\n",
       "      <td>2</td>\n",
       "      <td>2</td>\n",
       "      <td>2</td>\n",
       "      <td>4</td>\n",
       "      <td>2</td>\n",
       "      <td>2</td>\n",
       "      <td>4</td>\n",
       "      <td>4</td>\n",
       "      <td>2</td>\n",
       "      <td>3</td>\n",
       "      <td>4</td>\n",
       "      <td>28</td>\n",
       "      <td>1</td>\n",
       "      <td>US</td>\n",
       "    </tr>\n",
       "    <tr>\n",
       "      <td>10003</td>\n",
       "      <td>2</td>\n",
       "      <td>2</td>\n",
       "      <td>4</td>\n",
       "      <td>2</td>\n",
       "      <td>1</td>\n",
       "      <td>2</td>\n",
       "      <td>2</td>\n",
       "      <td>2</td>\n",
       "      <td>2</td>\n",
       "      <td>2</td>\n",
       "      <td>2</td>\n",
       "      <td>2</td>\n",
       "      <td>2</td>\n",
       "      <td>2</td>\n",
       "      <td>2</td>\n",
       "      <td>4</td>\n",
       "      <td>2</td>\n",
       "      <td>2</td>\n",
       "      <td>2</td>\n",
       "      <td>4</td>\n",
       "      <td>2</td>\n",
       "      <td>2</td>\n",
       "      <td>4</td>\n",
       "      <td>28</td>\n",
       "      <td>1</td>\n",
       "      <td>US</td>\n",
       "    </tr>\n",
       "    <tr>\n",
       "      <td>10004</td>\n",
       "      <td>2</td>\n",
       "      <td>3</td>\n",
       "      <td>4</td>\n",
       "      <td>4</td>\n",
       "      <td>2</td>\n",
       "      <td>4</td>\n",
       "      <td>3</td>\n",
       "      <td>2</td>\n",
       "      <td>1</td>\n",
       "      <td>1</td>\n",
       "      <td>2</td>\n",
       "      <td>4</td>\n",
       "      <td>4</td>\n",
       "      <td>1</td>\n",
       "      <td>3</td>\n",
       "      <td>3</td>\n",
       "      <td>3</td>\n",
       "      <td>1</td>\n",
       "      <td>2</td>\n",
       "      <td>5</td>\n",
       "      <td>2</td>\n",
       "      <td>2</td>\n",
       "      <td>4</td>\n",
       "      <td>25</td>\n",
       "      <td>2</td>\n",
       "      <td>US</td>\n",
       "    </tr>\n",
       "    <tr>\n",
       "      <td>10005</td>\n",
       "      <td>1</td>\n",
       "      <td>4</td>\n",
       "      <td>4</td>\n",
       "      <td>4</td>\n",
       "      <td>1</td>\n",
       "      <td>4</td>\n",
       "      <td>5</td>\n",
       "      <td>1</td>\n",
       "      <td>3</td>\n",
       "      <td>1</td>\n",
       "      <td>2</td>\n",
       "      <td>5</td>\n",
       "      <td>5</td>\n",
       "      <td>2</td>\n",
       "      <td>5</td>\n",
       "      <td>5</td>\n",
       "      <td>2</td>\n",
       "      <td>4</td>\n",
       "      <td>5</td>\n",
       "      <td>5</td>\n",
       "      <td>5</td>\n",
       "      <td>4</td>\n",
       "      <td>5</td>\n",
       "      <td>22</td>\n",
       "      <td>2</td>\n",
       "      <td>IN</td>\n",
       "    </tr>\n",
       "  </tbody>\n",
       "</table>\n",
       "<p>10006 rows × 26 columns</p>\n",
       "</div>"
      ],
      "text/plain": [
       "       Q1  Q2  Q3  Q4  Q5  Q6  Q8  Q9  Q12  Q13  Q16  Q18  Q20  Q21  Q24  Q25  \\\n",
       "0       1   1   5   1   1   1   1   1    5    1    5    1    5    1    1    5   \n",
       "1       2   3   3   3   4   4   3   3    3    3    3    3    2    2    4    3   \n",
       "2       2   3   5   3   1   3   2   5    3    1    4    3    3    1    2    4   \n",
       "3       1   4   4   5   3   4   3   1    4    1    4    3    2    4    2    5   \n",
       "4       4   4   2   3   3   4   3   3    1    4    1    4    1    2    2    2   \n",
       "...    ..  ..  ..  ..  ..  ..  ..  ..  ...  ...  ...  ...  ...  ...  ...  ...   \n",
       "10001   2   2   4   2   2   2   1   2    4    2    2    3    4    2    4    4   \n",
       "10002   2   3   2   1   2   2   2   2    1    2    2    2    2    2    2    4   \n",
       "10003   2   2   4   2   1   2   2   2    2    2    2    2    2    2    2    4   \n",
       "10004   2   3   4   4   2   4   3   2    1    1    2    4    4    1    3    3   \n",
       "10005   1   4   4   4   1   4   5   1    3    1    2    5    5    2    5    5   \n",
       "\n",
       "       Q26  Q28  Q30  Q31  Q32  Q34  Q35  age  gender country  \n",
       "0        1    1    5    5    5    1    5   35       1      US  \n",
       "1        4    3    3    3    3    4    4   51       2      US  \n",
       "2        3    4    4    4    4    4    4   38       1      US  \n",
       "3        3    2    4    2    3    4    4   30       3      US  \n",
       "4        3    2    4    2    4    5    2   24       2      US  \n",
       "...    ...  ...  ...  ...  ...  ...  ...  ...     ...     ...  \n",
       "10001    4    2    4    4    4    3    4   23       2      US  \n",
       "10002    2    2    4    4    2    3    4   28       1      US  \n",
       "10003    2    2    2    4    2    2    4   28       1      US  \n",
       "10004    3    1    2    5    2    2    4   25       2      US  \n",
       "10005    2    4    5    5    5    4    5   22       2      IN  \n",
       "\n",
       "[10006 rows x 26 columns]"
      ]
     },
     "execution_count": 61,
     "metadata": {},
     "output_type": "execute_result"
    }
   ],
   "source": [
    "pd.set_option('display.max_columns', 50)\n",
    "df"
   ]
  },
  {
   "cell_type": "code",
   "execution_count": 62,
   "metadata": {},
   "outputs": [],
   "source": [
    "# Hypothesis - 1 \n",
    "# In a romantic partnership, young males (<30) are more anxious and insecure than young females."
   ]
  },
  {
   "cell_type": "code",
   "execution_count": 63,
   "metadata": {},
   "outputs": [],
   "source": [
    "df1 = df[(df['age'] < 30)]"
   ]
  },
  {
   "cell_type": "code",
   "execution_count": 64,
   "metadata": {},
   "outputs": [],
   "source": [
    "# male dataset age <30\n",
    "df1_m = df1[(df1['gender'] == 1)]\n",
    "# female dataset age <30\n",
    "df1_f = df1[(df1['gender'] == 2)]"
   ]
  },
  {
   "cell_type": "code",
   "execution_count": 65,
   "metadata": {},
   "outputs": [],
   "source": [
    "# relevant Questions 4,6,28,32,34\n",
    "df1_m = df1_m[['Q4', 'Q6','Q28','Q32', 'Q34', 'age', 'country']]\n",
    "df1_f = df1_f[['Q4', 'Q6','Q28','Q32', 'Q34', 'age', 'country']]"
   ]
  },
  {
   "cell_type": "code",
   "execution_count": 66,
   "metadata": {},
   "outputs": [],
   "source": [
    "# replacing 1,2 which is disagree with -2,-1 respectively\n",
    "# replacing 4,5 which is agree with 1,2 respectively\n",
    "# replacing 3 which is neither with 0\n",
    "df1_m = df1_m.replace([1, 2, 3, 4, 5], [-2,-1,0,1,2])\n",
    "df1_f = df1_f.replace([1, 2, 3, 4, 5], [-2,-1,0,1,2])"
   ]
  },
  {
   "cell_type": "code",
   "execution_count": 67,
   "metadata": {},
   "outputs": [],
   "source": [
    "# scoring denotes how stongly they feel anxiousness or insecure in a relationship\n",
    "columns = ['Q4', 'Q6','Q28','Q32', 'Q34']\n",
    "df1_m['resultant_score'] = df1_m[list(columns)].sum(axis=1)\n",
    "df1_f['resultant_score'] = df1_f[list(columns)].sum(axis=1)"
   ]
  },
  {
   "cell_type": "code",
   "execution_count": 68,
   "metadata": {},
   "outputs": [
    {
     "data": {
      "text/plain": [
       "Text(0.5, 1.0, 'Female')"
      ]
     },
     "execution_count": 68,
     "metadata": {},
     "output_type": "execute_result"
    },
    {
     "data": {
      "image/png": "[encoded data removed]",
      "text/plain": [
       "<Figure size 1080x288 with 2 Axes>"
      ]
     },
     "metadata": {
      "needs_background": "light"
     },
     "output_type": "display_data"
    }
   ],
   "source": [
    "# create plot\n",
    "fig, ax =plt.subplots(1,2,figsize=(15,4))\n",
    "sns.countplot(x = 'resultant_score', data = df1_m, palette = 'magma', ax = ax[0]).set_title('Male')\n",
    "sns.countplot(x = 'resultant_score', data = df1_f, palette = 'magma',ax = ax[1]).set_title('Female')"
   ]
  },
  {
   "cell_type": "code",
   "execution_count": 69,
   "metadata": {},
   "outputs": [],
   "source": [
    "# Considering the fact that there might be cases were the score is neutralised\n",
    "# Thus considering only highy probable cases where they strongly agree with the hypothesis\n",
    "# Lets assume the score should be atleast 2 "
   ]
  },
  {
   "cell_type": "code",
   "execution_count": 111,
   "metadata": {},
   "outputs": [
    {
     "name": "stdout",
     "output_type": "stream",
     "text": [
      "Mean score: 5.658405172413793\n",
      "Median score: 5.0\n",
      "Std Dev score: 2.059711241597964\n"
     ]
    }
   ],
   "source": [
    "print('Mean score:', df1_m[(df1_m['resultant_score'] >2)]['resultant_score'].mean())\n",
    "print('Median score:', df1_m[(df1_m['resultant_score'] >2)]['resultant_score'].median())\n",
    "print('Std Dev score:', df1_m[(df1_m['resultant_score'] >2)]['resultant_score'].std())"
   ]
  },
  {
   "cell_type": "code",
   "execution_count": 112,
   "metadata": {},
   "outputs": [
    {
     "name": "stdout",
     "output_type": "stream",
     "text": [
      "Mean score: 5.370420017873101\n",
      "Median score: 5.0\n",
      "Std Dev score: 1.9829313906304844\n"
     ]
    }
   ],
   "source": [
    "print('Mean score:', df1_f[(df1_f['resultant_score'] >2)]['resultant_score'].mean())\n",
    "print('Median score:', df1_f[(df1_f['resultant_score'] >2)]['resultant_score'].median())\n",
    "print('Std Dev score:', df1_f[(df1_f['resultant_score'] >2)]['resultant_score'].std())"
   ]
  },
  {
   "cell_type": "code",
   "execution_count": 123,
   "metadata": {},
   "outputs": [],
   "source": [
    "# Result of Hypothesis suggests\n",
    "# Mean score of male > females\n",
    "\n",
    "# Thus hypothesis is True\n",
    "# yes young male age < 30 in a  are more anxious and insecure than young females."
   ]
  },
  {
   "cell_type": "raw",
   "metadata": {},
   "source": []
  },
  {
   "cell_type": "code",
   "execution_count": 124,
   "metadata": {},
   "outputs": [],
   "source": [
    "# Hypothesis - 2\n",
    "# In a partnership (romantic or non romantic), males are more expressive (less hesitant) than females."
   ]
  },
  {
   "cell_type": "code",
   "execution_count": 125,
   "metadata": {},
   "outputs": [],
   "source": [
    "df2 = df"
   ]
  },
  {
   "cell_type": "code",
   "execution_count": 126,
   "metadata": {},
   "outputs": [],
   "source": [
    "# male dataset \n",
    "df2_m = df2[(df2['gender'] == 1)]\n",
    "# female dataset \n",
    "df2_f = df2[(df2['gender'] == 2)]"
   ]
  },
  {
   "cell_type": "code",
   "execution_count": 127,
   "metadata": {},
   "outputs": [],
   "source": [
    "# relevant Questions 1,9,25,31,35\n",
    "df2_m = df2_m[['Q1', 'Q9','Q25', 'Q31', 'Q35', 'age', 'country']]\n",
    "df2_f = df2_f[['Q1', 'Q9','Q25', 'Q31', 'Q35', 'age', 'country']]"
   ]
  },
  {
   "cell_type": "code",
   "execution_count": 128,
   "metadata": {},
   "outputs": [],
   "source": [
    "# replacing 1,2 which is disagree with -2,-1 respectively\n",
    "# replacing 4,5 which is agree with 1,2 respectively\n",
    "# replacing 3 which is neither with 0\n",
    "df2_m = df2_m.replace([1, 2, 3, 4, 5], [-2,-1,0,1,2])\n",
    "df2_f = df2_f.replace([1, 2, 3, 4, 5], [-2,-1,0,1,2])"
   ]
  },
  {
   "cell_type": "code",
   "execution_count": 129,
   "metadata": {},
   "outputs": [],
   "source": [
    "# Aligning the questions according to hypothesis by just changing the sign \n",
    "df2_m['Q1'] = -df2_m['Q1']\n",
    "df2_f['Q1'] = -df2_f['Q1']\n",
    "df2_m['Q9'] = -df2_m['Q9']\n",
    "df2_f['Q9'] = -df2_f['Q9']"
   ]
  },
  {
   "cell_type": "code",
   "execution_count": 130,
   "metadata": {},
   "outputs": [],
   "source": [
    "# scoring denotes how stongly they express themselves\n",
    "columns = ['Q1', 'Q9','Q25', 'Q31', 'Q35']\n",
    "df2_m['resultant_score'] = df2_m[list(columns)].sum(axis=1)\n",
    "df2_f['resultant_score'] = df2_f[list(columns)].sum(axis=1)"
   ]
  },
  {
   "cell_type": "code",
   "execution_count": 131,
   "metadata": {},
   "outputs": [
    {
     "data": {
      "text/plain": [
       "Text(0.5, 1.0, 'Female')"
      ]
     },
     "execution_count": 131,
     "metadata": {},
     "output_type": "execute_result"
    },
    {
     "data": {
      "image/png": "[encoded data removed]",
      "text/plain": [
       "<Figure size 1440x432 with 2 Axes>"
      ]
     },
     "metadata": {
      "needs_background": "light"
     },
     "output_type": "display_data"
    }
   ],
   "source": [
    "# create plot\n",
    "fig, ax =plt.subplots(1,2,figsize=(20,6))\n",
    "sns.countplot(x = 'resultant_score', data = df2_m, palette = 'magma', ax = ax[0]).set_title('Male')\n",
    "sns.countplot(x = 'resultant_score', data = df2_f, palette = 'magma',ax = ax[1]).set_title('Female')"
   ]
  },
  {
   "cell_type": "code",
   "execution_count": 132,
   "metadata": {},
   "outputs": [],
   "source": [
    "# Considering the fact that there might be cases were the score is neutralised\n",
    "# Thus considering only highy probable cases where they strongly agree with the hypothesis\n",
    "# Lets assume from the graph the score should be atleast 4"
   ]
  },
  {
   "cell_type": "code",
   "execution_count": 137,
   "metadata": {},
   "outputs": [
    {
     "name": "stdout",
     "output_type": "stream",
     "text": [
      "Mean score: 6.979020979020979\n",
      "Median score: 7.0\n",
      "Std Dev score: 1.7409911330968244\n"
     ]
    }
   ],
   "source": [
    "print('Mean score:', df2_m[(df2_m['resultant_score'] >4)]['resultant_score'].mean())\n",
    "print('Median score:', df2_m[(df2_m['resultant_score'] >4)]['resultant_score'].median())\n",
    "print('Std Dev score:', df2_m[(df2_m['resultant_score'] >4)]['resultant_score'].std())"
   ]
  },
  {
   "cell_type": "code",
   "execution_count": 138,
   "metadata": {},
   "outputs": [
    {
     "name": "stdout",
     "output_type": "stream",
     "text": [
      "Mean score: 7.017488076311606\n",
      "Median score: 7.0\n",
      "Std Dev score: 1.7557646018436956\n"
     ]
    }
   ],
   "source": [
    "print('Mean score:', df2_f[(df2_f['resultant_score'] >4)]['resultant_score'].mean())\n",
    "print('Median score:', df2_f[(df2_f['resultant_score'] >4)]['resultant_score'].median())\n",
    "print('Std Dev score:', df2_f[(df2_f['resultant_score'] >4)]['resultant_score'].std())"
   ]
  },
  {
   "cell_type": "code",
   "execution_count": 135,
   "metadata": {},
   "outputs": [],
   "source": [
    "# Result of Hypothesis suggests\n",
    "# Mean score of male < females\n",
    "\n",
    "# Thus hypothesis can be considered nearly False or neutral \n",
    "# In a partnership (romantic or non romantic), males are 'NOT' more expressive (less hesitant) than females."
   ]
  },
  {
   "cell_type": "markdown",
   "metadata": {},
   "source": []
  },
  {
   "cell_type": "code",
   "execution_count": 136,
   "metadata": {},
   "outputs": [],
   "source": [
    "# Hypothesis - 3\n",
    "# An American of age 30+ likes to be closer to romantic partners than an Indian of the same age does."
   ]
  },
  {
   "cell_type": "code",
   "execution_count": 139,
   "metadata": {},
   "outputs": [],
   "source": [
    "df3 = df\n",
    "df3 = df3[(df3['age'] > 30)]"
   ]
  },
  {
   "cell_type": "code",
   "execution_count": 140,
   "metadata": {},
   "outputs": [],
   "source": [
    "# US dataset \n",
    "df3_us = df3[(df3['country'] == 'US')]\n",
    "# IN dataset \n",
    "df3_in = df3[(df3['country'] == 'IN')]"
   ]
  },
  {
   "cell_type": "code",
   "execution_count": 141,
   "metadata": {},
   "outputs": [],
   "source": [
    "# relevant Questions 3,9,21,31\n",
    "df3_us = df3_us[['Q3', 'Q9','Q21', 'Q31', 'age', 'gender']]\n",
    "df3_in = df3_in[['Q3', 'Q9','Q21', 'Q31', 'age', 'gender']]"
   ]
  },
  {
   "cell_type": "code",
   "execution_count": 142,
   "metadata": {},
   "outputs": [],
   "source": [
    "# replacing 1,2 which is disagree with -2,-1 respectively\n",
    "# replacing 4,5 which is agree with 1,2 respectively\n",
    "# replacing 3 which is neither with 0\n",
    "df3_us = df3_us.replace([1, 2, 3, 4, 5], [-2,-1,0,1,2])\n",
    "df3_in = df3_in.replace([1, 2, 3, 4, 5], [-2,-1,0,1,2])"
   ]
  },
  {
   "cell_type": "code",
   "execution_count": 143,
   "metadata": {},
   "outputs": [],
   "source": [
    "# Aligning the questions according to hypothesis by just changing the sign \n",
    "df3_us['Q9'] = -df3_us['Q9']\n",
    "df3_in['Q9'] = -df3_in['Q9']\n",
    "df3_us['Q21'] = -df3_us['Q21']\n",
    "df3_in['Q21'] = -df3_in['Q21']"
   ]
  },
  {
   "cell_type": "code",
   "execution_count": 144,
   "metadata": {},
   "outputs": [],
   "source": [
    "# scoring denotes how stongly they like to be closer to their romantic patner\n",
    "columns = ['Q3', 'Q9','Q21', 'Q31']\n",
    "df3_us['resultant_score'] = df3_us[list(columns)].sum(axis=1)\n",
    "df3_in['resultant_score'] = df3_in[list(columns)].sum(axis=1)"
   ]
  },
  {
   "cell_type": "code",
   "execution_count": 145,
   "metadata": {},
   "outputs": [
    {
     "data": {
      "text/plain": [
       "Text(0.5, 1.0, 'India')"
      ]
     },
     "execution_count": 145,
     "metadata": {},
     "output_type": "execute_result"
    },
    {
     "data": {
      "image/png": "[encoded data removed]",
      "text/plain": [
       "<Figure size 1440x432 with 2 Axes>"
      ]
     },
     "metadata": {
      "needs_background": "light"
     },
     "output_type": "display_data"
    }
   ],
   "source": [
    "# create plot\n",
    "fig, ax =plt.subplots(1,2,figsize=(20,6))\n",
    "sns.countplot(x = 'resultant_score', data = df3_us, palette = 'magma', ax = ax[0]).set_title('USA')\n",
    "sns.countplot(x = 'resultant_score', data = df3_in, palette = 'magma',ax = ax[1]).set_title('India')"
   ]
  },
  {
   "cell_type": "code",
   "execution_count": 153,
   "metadata": {},
   "outputs": [],
   "source": [
    "# Considering the fact that there might be cases were the score is neutralised\n",
    "# Dataset for people from India is comapratively less than those os US.\n",
    "# Thus considering only highy probable cases where they strongly agree with the hypothesis\n",
    "# Lets assume from the graph the score should be atleast 0"
   ]
  },
  {
   "cell_type": "code",
   "execution_count": 154,
   "metadata": {},
   "outputs": [
    {
     "name": "stdout",
     "output_type": "stream",
     "text": [
      "Mean score: 4.084473808400189\n",
      "Median score: 4.0\n",
      "Std Dev score: 2.0262534665292\n"
     ]
    }
   ],
   "source": [
    "print('Mean score:', df3_us[(df3_us['resultant_score'] >0)]['resultant_score'].mean())\n",
    "print('Median score:', df3_us[(df3_us['resultant_score'] >0)]['resultant_score'].median())\n",
    "print('Std Dev score:', df3_us[(df3_us['resultant_score'] >0)]['resultant_score'].std())"
   ]
  },
  {
   "cell_type": "code",
   "execution_count": 155,
   "metadata": {},
   "outputs": [
    {
     "name": "stdout",
     "output_type": "stream",
     "text": [
      "Mean score: 4.415094339622642\n",
      "Median score: 4.0\n",
      "Std Dev score: 1.791367787089293\n"
     ]
    }
   ],
   "source": [
    "print('Mean score:', df3_in[(df3_in['resultant_score'] >0)]['resultant_score'].mean())\n",
    "print('Median score:', df3_in[(df3_in['resultant_score'] >0)]['resultant_score'].median())\n",
    "print('Std Dev score:', df3_in[(df3_in['resultant_score'] >0)]['resultant_score'].std())"
   ]
  },
  {
   "cell_type": "code",
   "execution_count": 156,
   "metadata": {},
   "outputs": [],
   "source": [
    "# Result of Hypothesis suggests\n",
    "# Mean score of people from US < people from India\n",
    "\n",
    "# Thus hypothesis is False\n",
    "# An American of age 30+ likes to be closer to romantic partners 'BUT NOT MORE THAN' an Indian of the same age."
   ]
  },
  {
   "cell_type": "markdown",
   "metadata": {},
   "source": []
  },
  {
   "cell_type": "code",
   "execution_count": 157,
   "metadata": {},
   "outputs": [],
   "source": [
    "# Hypothesis - 4\n",
    "# Indians have similar expressiveness towards romantic as well as non romantic partners."
   ]
  },
  {
   "cell_type": "code",
   "execution_count": 158,
   "metadata": {},
   "outputs": [],
   "source": [
    "df4 = df\n",
    "# IN dataset \n",
    "df4 = df4[(df4['country'] == 'IN')]"
   ]
  },
  {
   "cell_type": "code",
   "execution_count": 159,
   "metadata": {},
   "outputs": [],
   "source": [
    "# relevant Questions 3,9,21,31,32,34 for expressiveness towards romantic partners.\n",
    "df4_rp = df4[['Q3', 'Q9','Q21', 'Q31', 'Q32', 'Q34']]\n",
    "# relevant Questions 1,13,25,30,35 for expressiveness towards partners.\n",
    "df4_p = df4[['Q1', 'Q13', 'Q25', 'Q30', 'Q35']]"
   ]
  },
  {
   "cell_type": "code",
   "execution_count": 160,
   "metadata": {},
   "outputs": [],
   "source": [
    "# replacing 1,2 which is disagree with -2,-1 respectively\n",
    "# replacing 4,5 which is agree with 1,2 respectively\n",
    "# replacing 3 which is neither with 0\n",
    "df4_rp = df4_rp.replace([1, 2, 3, 4, 5], [-2,-1,0,1,2])\n",
    "df4_p = df4_p.replace([1, 2, 3, 4, 5], [-2,-1,0,1,2])"
   ]
  },
  {
   "cell_type": "code",
   "execution_count": 161,
   "metadata": {},
   "outputs": [],
   "source": [
    "# Aligning the questions according to hypothesis by just changing the sign \n",
    "df4_rp['Q9'] = -df4_rp['Q9']\n",
    "df4_rp['Q21'] = -df4_rp['Q21']\n",
    "# Aligning the questions according to hypothesis by just changing the sign \n",
    "df4_p['Q1'] = -df4_p['Q1']"
   ]
  },
  {
   "cell_type": "code",
   "execution_count": 162,
   "metadata": {},
   "outputs": [],
   "source": [
    "# scoring denotes how stongly they express\n",
    "columns_rp = ['Q3', 'Q9','Q21', 'Q31', 'Q32', 'Q34']\n",
    "columns_p = ['Q1', 'Q13', 'Q25', 'Q30', 'Q35']\n",
    "df4_rp['resultant_score'] = df4_rp[list(columns_rp)].sum(axis=1)\n",
    "df4_p['resultant_score'] = df4_p[list(columns_p)].sum(axis=1)"
   ]
  },
  {
   "cell_type": "code",
   "execution_count": 163,
   "metadata": {},
   "outputs": [
    {
     "data": {
      "text/plain": [
       "Text(0.5, 1.0, 'Patners')"
      ]
     },
     "execution_count": 163,
     "metadata": {},
     "output_type": "execute_result"
    },
    {
     "data": {
      "image/png": "[encoded data removed]",
      "text/plain": [
       "<Figure size 1440x432 with 2 Axes>"
      ]
     },
     "metadata": {
      "needs_background": "light"
     },
     "output_type": "display_data"
    }
   ],
   "source": [
    "# create plot\n",
    "fig, ax =plt.subplots(1,2,figsize=(20,6))\n",
    "sns.countplot(x = 'resultant_score', data = df4_rp, palette = 'magma', ax = ax[0]).set_title('Romantic Patners')\n",
    "sns.countplot(x = 'resultant_score', data = df4_p, palette = 'magma',ax = ax[1]).set_title('Patners')"
   ]
  },
  {
   "cell_type": "code",
   "execution_count": 104,
   "metadata": {},
   "outputs": [],
   "source": [
    "# Considering the fact that there might be cases were the score is neutralised\n",
    "# Dataset for people from India is comapratively less than those os US.\n",
    "# Thus considering only highy probable cases where they strongly agree with the hypothesis\n",
    "# Lets assume from the graph the score should be atleast 2 "
   ]
  },
  {
   "cell_type": "code",
   "execution_count": 166,
   "metadata": {},
   "outputs": [
    {
     "name": "stdout",
     "output_type": "stream",
     "text": [
      "Mean score: 6.041025641025641\n",
      "Median score: 5.0\n",
      "Std Dev score: 2.4533501131492956\n"
     ]
    }
   ],
   "source": [
    "print('Mean score:', df4_rp[(df4_rp['resultant_score'] >2)]['resultant_score'].mean())\n",
    "print('Median score:', df4_rp[(df4_rp['resultant_score'] >2)]['resultant_score'].median())\n",
    "print('Std Dev score:', df4_rp[(df4_rp['resultant_score'] >2)]['resultant_score'].std())"
   ]
  },
  {
   "cell_type": "code",
   "execution_count": 167,
   "metadata": {},
   "outputs": [
    {
     "name": "stdout",
     "output_type": "stream",
     "text": [
      "Mean score: 4.129032258064516\n",
      "Median score: 4.0\n",
      "Std Dev score: 1.140301927892712\n"
     ]
    }
   ],
   "source": [
    "print('Mean score:', df4_p[(df4_p['resultant_score'] >2)]['resultant_score'].mean())\n",
    "print('Median score:', df4_p[(df4_p['resultant_score'] >2)]['resultant_score'].median())\n",
    "print('Std Dev score:', df4_p[(df4_p['resultant_score'] >2)]['resultant_score'].std())"
   ]
  },
  {
   "cell_type": "code",
   "execution_count": 168,
   "metadata": {},
   "outputs": [],
   "source": [
    "# Result of Hypothesis suggests\n",
    "\n",
    "# Thus hypothesis is False\n",
    "# Indians have 'MORE' expressiveness towards romantic patners than non-romantic partners."
   ]
  },
  {
   "cell_type": "code",
   "execution_count": 108,
   "metadata": {},
   "outputs": [],
   "source": [
    "# Summary of hypothesis for N2 dataset\n",
    "\n",
    "# a) In a romantic partnership, young males (<30) are more anxious and insecure than young females.----------------True\n",
    "# b) In a partnership (romantic or non romantic), males are more expressive (less hesitant) than females.---nearly False\n",
    "# c) An American of age 30+ likes to be closer to romantic partners than an Indian of the same age does.-----------False\n",
    "# d) Indians have similar expressiveness towards romantic as well as non romantic partners.------------------------False\n"
   ]
  }
 ],
 "metadata": {
  "kernelspec": {
   "display_name": "Python 3",
   "language": "python",
   "name": "python3"
  },
  "language_info": {
   "codemirror_mode": {
    "name": "ipython",
    "version": 3
   },
   "file_extension": ".py",
   "mimetype": "text/x-python",
   "name": "python",
   "nbconvert_exporter": "python",
   "pygments_lexer": "ipython3",
   "version": "3.7.4"
  }
 },
 "nbformat": 4,
 "nbformat_minor": 2
}
